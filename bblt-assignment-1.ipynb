{
  "nbformat": 4,
  "nbformat_minor": 0,
  "metadata": {
    "colab": {
      "provenance": []
    },
    "kernelspec": {
      "name": "python3",
      "display_name": "Python 3"
    },
    "language_info": {
      "name": "python"
    }
  },
  "cells": [
    {
      "cell_type": "markdown",
      "source": [
        "# 1) What is natural language processing?"
      ],
      "metadata": {
        "id": "x7yuduSWx7yg"
      }
    },
    {
      "cell_type": "markdown",
      "source": [
        "Natural Language Processing is the field of computer science that deals with machine processing of human languages. It is an interdisciplinary field that combines artificial intelligence and linguistics in computer science. Natural Language Processing allows machines to interpret and generate human language in written or spoken form. It enables various applications including chatbots, voice assistants, translation software etc."
      ],
      "metadata": {
        "id": "rXZ5dPQwy9-N"
      }
    },
    {
      "cell_type": "markdown",
      "source": [
        "# 2) Explain the different data types with examples."
      ],
      "metadata": {
        "id": "7Qp9H756zzih"
      }
    },
    {
      "cell_type": "markdown",
      "source": [
        "The different data types in python are as follows:\n",
        "\n",
        "*   int: Stores positive and negative whole numbers without decimal point.\n",
        "\n",
        "*   float: Stores floating point numbers or numbers with a decimal point\n",
        "\n",
        "*   str: Stands for 'string', that stores text or sequences of characters. Strings are enclosed in single or double quotes.\n",
        "\n",
        "*   list: Ordered and mutable collection enclosed in square brackets that can contain heterogeneous data types.\n",
        "\n",
        "*   tuple: Ordered but immutable collection of items enclosed in parentheses that can also store heterogeneous data types.\n",
        "\n",
        "*   set: Unordered collections of unique, mutable items enclosed in curly braces. Duplicate items are removed automatically.\n",
        "\n",
        "*   dict: Unordered collection of key-value pairs enclosed in curly brackets. Keys must be unique but values need not be.\n",
        "\n",
        "*   bool: Represent truth values of 'True' or 'False'.\n",
        "\n",
        "\n",
        "\n",
        "\n"
      ],
      "metadata": {
        "id": "_uStZNDj1ztO"
      }
    },
    {
      "cell_type": "code",
      "source": [
        "#Examples:\n",
        "\n",
        "# int\n",
        "_int = 1\n",
        "\n",
        "# float\n",
        "_float = 4.5\n",
        "\n",
        "# str\n",
        "_str = \"India\"\n",
        "\n",
        "# list\n",
        "_list = [1, 2.0, \"hello\", True, \"world\", [6, 2], 0]\n",
        "\n",
        "# tuple\n",
        "_tuple = (1, 2, 3, 4, 5)\n",
        "\n",
        "#set\n",
        "_set = {56, 23, 64, 87}\n",
        "\n",
        "#dictionary\n",
        "_dict = {'name': 'John Smith', 'age': 45}\n",
        "\n",
        "#bool\n",
        "_bool = True"
      ],
      "metadata": {
        "id": "dTRixtaAIKmM"
      },
      "execution_count": 2,
      "outputs": []
    },
    {
      "cell_type": "markdown",
      "source": [
        "# 3) Explain different python operators with examples?"
      ],
      "metadata": {
        "id": "qiSG0pcKcG0c"
      }
    },
    {
      "cell_type": "markdown",
      "source": [
        "The different python operators are as follows:"
      ],
      "metadata": {
        "id": "yNmCv6d8cLW_"
      }
    },
    {
      "cell_type": "markdown",
      "source": [
        "**Arithmetic Operators**\n",
        "*   '+' : Addition\n",
        "*   '-' : Subtraction\n",
        "*   '*' : Multiplication\n",
        "*   '/' : Division (returns float)\n",
        "*   '//' : Floor division (returns integer result)\n",
        "*   '%' : Modulus (returns remainder of division)\n",
        "*   '**' : Exponentiation"
      ],
      "metadata": {
        "id": "AAdZNCZ6JgWW"
      }
    },
    {
      "cell_type": "code",
      "source": [
        "a = 7\n",
        "b = 4\n",
        "\n",
        "#Addition\n",
        "print(\"a + b =\", a+b)\n",
        "\n",
        "#Subtraction\n",
        "print(\"a - b =\", a-b)\n",
        "\n",
        "#Multiplication\n",
        "print(\"a * b =\", a*b)\n",
        "\n",
        "#Division\n",
        "print(\"a / b =\", a/b)\n",
        "\n",
        "#Floor division\n",
        "print(\"a // b =\", a//b)\n",
        "\n",
        "#Modulus\n",
        "print(\"a % b =\", a%b)"
      ],
      "metadata": {
        "colab": {
          "base_uri": "https://localhost:8080/"
        },
        "id": "rJQbOFAIJBPI",
        "outputId": "99ba391a-281d-418d-f781-7567f83c7c21"
      },
      "execution_count": 3,
      "outputs": [
        {
          "output_type": "stream",
          "name": "stdout",
          "text": [
            "a + b = 11\n",
            "a - b = 3\n",
            "a * b = 28\n",
            "a / b = 1.75\n",
            "a // b = 1\n",
            "a % b = 3\n"
          ]
        }
      ]
    },
    {
      "cell_type": "markdown",
      "source": [
        "**Comparison Operators** (returns bool):\n",
        "*   '==' : Equal to\n",
        "*   '!=' : Not equal to\n",
        "*   '>' : Greater than\n",
        "*   '<' : Less than\n",
        "*   '>=' : Greater than or equal to\n",
        "*   '<=' : Less than or equal to"
      ],
      "metadata": {
        "id": "5_eKqPcmK1Bg"
      }
    },
    {
      "cell_type": "code",
      "source": [
        "a = 7\n",
        "b = 4\n",
        "\n",
        "# Equal to\n",
        "print(\"a == b =\", a == b)\n",
        "\n",
        "# Not equal to\n",
        "print(\"a != b =\", a != b)\n",
        "\n",
        "# Greater than\n",
        "print(\"a > b =\", a > b)\n",
        "\n",
        "# Less than\n",
        "print(\"a < b =\", a < b)\n",
        "\n",
        "# Greater than or equal to\n",
        "print(\"a >= b =\", a >= b)\n",
        "\n",
        "# Less than or equal to\n",
        "print(\"a <= b =\", a <= b)"
      ],
      "metadata": {
        "id": "7vx5Mb9wKISd",
        "colab": {
          "base_uri": "https://localhost:8080/"
        },
        "outputId": "1a44a8ef-acb5-439c-b931-d6af5b314260"
      },
      "execution_count": 1,
      "outputs": [
        {
          "output_type": "stream",
          "name": "stdout",
          "text": [
            "a == b = False\n",
            "a != b = True\n",
            "a > b = True\n",
            "a < b = False\n",
            "a >= b = True\n",
            "a <= b = False\n"
          ]
        }
      ]
    },
    {
      "cell_type": "markdown",
      "source": [
        "Logical Operators:\n",
        "*   'and' : Returns True if both conditions are true\n",
        "*   'or' : Returns True if at least one condition is true\n",
        "*   'not' : Reverses the result of the condition"
      ],
      "metadata": {
        "id": "vSIp405eK9xM"
      }
    },
    {
      "cell_type": "code",
      "source": [
        "a = 7\n",
        "b = 4\n",
        "\n",
        "# Logical AND\n",
        "print(\"a and b =\", a and b)\n",
        "\n",
        "# Logical OR\n",
        "print(\"a or b =\", a or b)\n",
        "\n",
        "# Logical NOT\n",
        "print(\"not a =\", not a)"
      ],
      "metadata": {
        "id": "mUZnboWNK_jK",
        "colab": {
          "base_uri": "https://localhost:8080/"
        },
        "outputId": "7bee9119-81ed-430f-c2cb-f36c8388a357"
      },
      "execution_count": 4,
      "outputs": [
        {
          "output_type": "stream",
          "name": "stdout",
          "text": [
            "a and b = 4\n",
            "a or b = 7\n",
            "not a = False\n"
          ]
        }
      ]
    },
    {
      "cell_type": "markdown",
      "source": [
        "Assignment Operators:\n",
        "*   '=' : Assign value\n",
        "*   '+=' : Add and assign\n",
        "*   '-=' : Subtract and assign\n",
        "*   '*=' : Multiply and assign\n",
        "*   '/=' : Divide and assign"
      ],
      "metadata": {
        "id": "Ibe5HgL0LASE"
      }
    },
    {
      "cell_type": "code",
      "source": [
        "#Assignment\n",
        "a = 7\n",
        "b = 3\n",
        "\n",
        "#Add and assign\n",
        "b += a\n",
        "print(b)\n",
        "\n",
        "# Subtract and assign\n",
        "b -= a\n",
        "print(b)\n",
        "\n",
        "# Multiply and assign\n",
        "b *= a\n",
        "print(b)\n",
        "\n",
        "# Divide and assign\n",
        "b /= a\n",
        "print(b)"
      ],
      "metadata": {
        "id": "A2xJhp3BLBgA",
        "colab": {
          "base_uri": "https://localhost:8080/"
        },
        "outputId": "6b88213a-c105-4c9b-bbfb-14090d0a90f5"
      },
      "execution_count": 5,
      "outputs": [
        {
          "output_type": "stream",
          "name": "stdout",
          "text": [
            "10\n",
            "3\n",
            "21\n",
            "3.0\n"
          ]
        }
      ]
    },
    {
      "cell_type": "markdown",
      "source": [
        "Membership Operators:\n",
        "*   'in' : Returns True if value is present in the sequence\n",
        "*   'not in' : Returns True if value is not present in the sequence"
      ],
      "metadata": {
        "id": "8eoYca-TLB0E"
      }
    },
    {
      "cell_type": "code",
      "source": [
        "lst = [1, 2, 3, 4, 5]\n",
        "a = 7\n",
        "b = 4\n",
        "\n",
        "# Membership check\n",
        "print(\"b in list =\", b in lst)\n",
        "print(\"a not in list =\", a not in lst)"
      ],
      "metadata": {
        "colab": {
          "base_uri": "https://localhost:8080/"
        },
        "id": "958vNHRaLCx3",
        "outputId": "582db432-5175-469f-88ec-14a60532c1ad"
      },
      "execution_count": 6,
      "outputs": [
        {
          "output_type": "stream",
          "name": "stdout",
          "text": [
            "b in list = True\n",
            "a not in list = True\n"
          ]
        }
      ]
    },
    {
      "cell_type": "markdown",
      "source": [
        "Identity Operators:\n",
        "*   'is' : Returns True if both variables point to the same object\n",
        "*   'is not' : Returns True if both variables do not point to the same object"
      ],
      "metadata": {
        "id": "L2QxwtSNLDKH"
      }
    },
    {
      "cell_type": "code",
      "source": [
        "a = 7\n",
        "b = 4\n",
        "c = 7\n",
        "\n",
        "# is\n",
        "print(\"a is c =\", a is c)\n",
        "\n",
        "# is not\n",
        "print(\"a is not b =\", a is not b)"
      ],
      "metadata": {
        "colab": {
          "base_uri": "https://localhost:8080/"
        },
        "id": "ZH9mRKUbLD33",
        "outputId": "bd320273-dcae-471b-8bb8-c715b77cf65a"
      },
      "execution_count": 7,
      "outputs": [
        {
          "output_type": "stream",
          "name": "stdout",
          "text": [
            "a is c = True\n",
            "a is not b = True\n"
          ]
        }
      ]
    },
    {
      "cell_type": "markdown",
      "source": [
        "# 4) What is a list and give examples for its different methods?"
      ],
      "metadata": {
        "id": "QJkDJ81miQse"
      }
    },
    {
      "cell_type": "markdown",
      "source": [
        "A list in Python is a mutable, ordered collection of elements that can hold any data type, including other lists.\n",
        "\n",
        "They are defined using square brackets and elements are separated by commas."
      ],
      "metadata": {
        "id": "9DTSYVGviUab"
      }
    },
    {
      "cell_type": "code",
      "source": [
        "lst = [1, 2.0, \"India\", True, {5, 76}]"
      ],
      "metadata": {
        "id": "DToFngGajmi8"
      },
      "execution_count": 8,
      "outputs": []
    },
    {
      "cell_type": "markdown",
      "source": [
        "Methods include:\n",
        "\n",
        "\n",
        "*   append(): Adds a single element at the end of the list.\n",
        "*   extend(): Adds elements of another iterable to the list.\n",
        "*   insert(): Inserts element at a specific position.\n",
        "*   remove(): Removes first occurrence of specified value.\n",
        "*   pop(): Removes and returns item at a given index.\n",
        "*   count(): Returns number of occurrences of a value.\n",
        "*   sort(): Sorts the list. Only if the items are comparable.\n",
        "*   reverse(): Reverses the elements of the list.\n"
      ],
      "metadata": {
        "id": "cyiKvaqXjiy-"
      }
    },
    {
      "cell_type": "code",
      "source": [
        "lst = [6, 7, 234, 87, 5, 88, 23, 72]\n",
        "\n",
        "# append()\n",
        "lst.append(45)\n",
        "print(\"appended list:\", lst)\n",
        "\n",
        "# extend()\n",
        "lst.extend([94, 48])\n",
        "print(\"extended list:\", lst)\n",
        "\n",
        "# insert()\n",
        "lst.insert(2, 73)\n",
        "print(\"list after insertion:\", lst)\n",
        "\n",
        "# remove()\n",
        "lst.remove(234)\n",
        "print(\"list after removal:\", lst)\n",
        "\n",
        "# pop()\n",
        "removed = lst.pop(3)\n",
        "print(\"list after pop:\", lst)\n",
        "print(\"popped item:\", removed)\n",
        "\n",
        "# count()\n",
        "count = lst.count(88)\n",
        "print(\"count of 88 in list:\", count)\n",
        "\n",
        "# sort()\n",
        "lst.sort()\n",
        "print(\"sorted list:\", lst)\n",
        "\n",
        "# reverse()\n",
        "lst.reverse()\n",
        "print(\"reversed list:\", lst)"
      ],
      "metadata": {
        "colab": {
          "base_uri": "https://localhost:8080/"
        },
        "id": "KwkPjBmHk2De",
        "outputId": "64569870-6cd4-4540-d804-7fcdd1f615d0"
      },
      "execution_count": 9,
      "outputs": [
        {
          "output_type": "stream",
          "name": "stdout",
          "text": [
            "appended list: [6, 7, 234, 87, 5, 88, 23, 72, 45]\n",
            "extended list: [6, 7, 234, 87, 5, 88, 23, 72, 45, 94, 48]\n",
            "list after insertion: [6, 7, 73, 234, 87, 5, 88, 23, 72, 45, 94, 48]\n",
            "list after removal: [6, 7, 73, 87, 5, 88, 23, 72, 45, 94, 48]\n",
            "list after pop: [6, 7, 73, 5, 88, 23, 72, 45, 94, 48]\n",
            "popped item: 87\n",
            "count of 88 in list: 1\n",
            "sorted list: [5, 6, 7, 23, 45, 48, 72, 73, 88, 94]\n",
            "reversed list: [94, 88, 73, 72, 48, 45, 23, 7, 6, 5]\n"
          ]
        }
      ]
    },
    {
      "cell_type": "markdown",
      "source": [
        "# 5) Explain string and its methods with examples?"
      ],
      "metadata": {
        "id": "IfdUw8-TmGpv"
      }
    },
    {
      "cell_type": "markdown",
      "source": [
        "The following are some of the most common string methods:\n",
        "\n",
        "*   lower(): Converts all characters to lowercase\n",
        "*   upper(): Converts all characters to uppercase\n",
        "*   capitalize(): Capitalizes the first character of the string\n",
        "*   title(): Capitalizes the first character of each word\n",
        "*   strip(): Removes leading and trailing whitespace\n",
        "*   replace(old, new): Replaces all occurrences of a substring with another\n",
        "*   find(sub): Returns the index of the first occurrence of a substring\n",
        "*   rfind(sub): Returns the index of the last occurrence of a substring\n",
        "*   count(sub): Counts the number of times a substring occurs\n",
        "*   split(sep): Splits the string into a list using the specified separator\n",
        "*   join(iterable): Joins elements of an iterable into a string using the current string as a separator\n",
        "*   isalpha(): Returns True if all characters are alphabetic\n",
        "*   isdigit(): Returns True if all characters are digits\n",
        "*   isalnum(): Returns True if all characters are alphanumeric\n",
        "*   isspace(): Returns True if all characters are whitespace\n",
        "*   index(sub): Returns the index of the first occurrence of a substring, raises an error if not found\n",
        "*   rindex(sub): Returns the index of the last occurrence of a substring, raises an error if not found"
      ],
      "metadata": {
        "id": "BuuO-BKnmMyN"
      }
    },
    {
      "cell_type": "code",
      "source": [
        "# lower\n",
        "string = \"Hello, World\"\n",
        "string = string.lower()\n",
        "print(\"Lowercase string:\", string)\n",
        "\n",
        "# upper\n",
        "string = \"Hello, World\"\n",
        "string = string.upper()\n",
        "print(\"Uppercase string:\", string)\n",
        "\n",
        "# capitalize\n",
        "string = \"hello, world\"\n",
        "string = string.capitalize()\n",
        "print(\"Capitalised string:\", string)\n",
        "\n",
        "# title\n",
        "string = \"hello, world\"\n",
        "string = string.title()\n",
        "print(\"Title case string:\", string)\n",
        "\n",
        "# strip\n",
        "string = \"   Hello, World   \"\n",
        "string = string.strip()\n",
        "print(\"Stripped string:\", string)\n",
        "\n",
        "# replace\n",
        "string = \"Hello, World\"\n",
        "string = string.replace(\"World\", \"Guys\")\n",
        "print(\"Replaced string:\", string)\n",
        "\n",
        "# find\n",
        "string = \"Hello, World\"\n",
        "index = string.find(\"o\")\n",
        "print(\"Index of first 'o':\", index)\n",
        "\n",
        "# rfind\n",
        "string = \"Hello, World\"\n",
        "index = string.rfind(\"o\")\n",
        "print(\"Index of last 'o':\", index)\n",
        "\n",
        "# count\n",
        "string = \"Hello, World\"\n",
        "count = string.count(\"l\")\n",
        "print(\"Count of 'l':\", count)\n",
        "\n",
        "# split\n",
        "string = \"Hello, World\"\n",
        "split_list = string.split(\", \")\n",
        "print(\"Split list:\", split_list)\n",
        "\n",
        "# join\n",
        "words = [\"Hello\", \"World\"]\n",
        "joined = \" \".join(words)\n",
        "print(\"Joined string:\", joined)\n",
        "\n",
        "# isalpha\n",
        "string = \"HelloWorld\"\n",
        "print(\"Is alphabetic?\", string.isalpha())\n",
        "\n",
        "# isdigit\n",
        "string = \"12345\"\n",
        "print(\"Is digit?\", string.isdigit())\n",
        "\n",
        "# isalnum\n",
        "string = \"Hello123\"\n",
        "print(\"Is alphanumeric?\", string.isalnum())\n",
        "\n",
        "# isspace\n",
        "string = \"   \"\n",
        "print(\"Is whitespace?\", string.isspace())\n",
        "\n",
        "# index\n",
        "string = \"Hello, World\"\n",
        "index = string.index(\"o\")\n",
        "print(\"Index of first 'o':\", index)\n",
        "\n",
        "# rindex\n",
        "string = \"Hello, World\"\n",
        "index = string.rindex(\"o\")\n",
        "print(\"Index of last 'o':\", index)"
      ],
      "metadata": {
        "colab": {
          "base_uri": "https://localhost:8080/"
        },
        "id": "3rpkC0XzlvZx",
        "outputId": "7d4a3b54-4c78-477e-c0e6-64072b57ef69"
      },
      "execution_count": 10,
      "outputs": [
        {
          "output_type": "stream",
          "name": "stdout",
          "text": [
            "Lowercase string: hello, world\n",
            "Uppercase string: HELLO, WORLD\n",
            "Capitalised string: Hello, world\n",
            "Title case string: Hello, World\n",
            "Stripped string: Hello, World\n",
            "Replaced string: Hello, Guys\n",
            "Index of first 'o': 4\n",
            "Index of last 'o': 8\n",
            "Count of 'l': 3\n",
            "Split list: ['Hello', 'World']\n",
            "Joined string: Hello World\n",
            "Is alphabetic? True\n",
            "Is digit? True\n",
            "Is alphanumeric? True\n",
            "Is whitespace? True\n",
            "Index of first 'o': 4\n",
            "Index of last 'o': 8\n"
          ]
        }
      ]
    },
    {
      "cell_type": "markdown",
      "source": [
        "# 6) What are conditional statements and explain them with examples?"
      ],
      "metadata": {
        "id": "TUGjZGa1qaP1"
      }
    },
    {
      "cell_type": "markdown",
      "source": [
        "Conditional statements are programming statements or constructs that execute certain blocks of code depending on  a condition being True or False. It is used to control the flow of the program.\n",
        "\n",
        "Given below are the condition statements in python. Each of them can be nested within each other as well."
      ],
      "metadata": {
        "id": "XCmcYgwvp5Kf"
      }
    },
    {
      "cell_type": "markdown",
      "source": [
        "1.  if statement\n",
        "\n",
        "Executes a block of code only if the condition is true."
      ],
      "metadata": {
        "id": "HSV0nDlyqfVv"
      }
    },
    {
      "cell_type": "code",
      "source": [
        "number = 20\n",
        "if number > 0:\n",
        "    print(\"This is a positive number.\")"
      ],
      "metadata": {
        "colab": {
          "base_uri": "https://localhost:8080/"
        },
        "id": "SFLuFJi4pVL4",
        "outputId": "4d8fcc55-ddc9-4ebc-b22a-96a0c9805d8d"
      },
      "execution_count": null,
      "outputs": [
        {
          "output_type": "stream",
          "name": "stdout",
          "text": [
            "This is a positive number.\n"
          ]
        }
      ]
    },
    {
      "cell_type": "markdown",
      "source": [
        "2. if-else statement\n",
        "\n",
        "Executes one block if the condition is true, and another block if it is false."
      ],
      "metadata": {
        "id": "rK4Knqz5qt5z"
      }
    },
    {
      "cell_type": "code",
      "source": [
        "number = -2\n",
        "if number > 0:\n",
        "  print(\"This is a positive number.\")\n",
        "else:\n",
        "  print(\"This is a negative number or 0.\")"
      ],
      "metadata": {
        "id": "w-rq4NzGq0vX"
      },
      "execution_count": null,
      "outputs": []
    },
    {
      "cell_type": "markdown",
      "source": [
        "3. if-elif-else statement\n",
        "Checks multiple conditions one by one. The first true condition's block gets executed."
      ],
      "metadata": {
        "id": "y-MCaRgnq9oR"
      }
    },
    {
      "cell_type": "code",
      "source": [
        "number = 0\n",
        "if number > 0:\n",
        "  print(\"This is a positive number.\")\n",
        "elif number < 0:\n",
        "  print(\"This is a negative number.\")\n",
        "else:\n",
        "  print(\"This number is 0.\")"
      ],
      "metadata": {
        "colab": {
          "base_uri": "https://localhost:8080/"
        },
        "id": "jvbjr1n6rAUl",
        "outputId": "07f75839-9e18-4d23-9c98-506edfc36e56"
      },
      "execution_count": null,
      "outputs": [
        {
          "output_type": "stream",
          "name": "stdout",
          "text": [
            "This number is 0.\n"
          ]
        }
      ]
    }
  ]
}